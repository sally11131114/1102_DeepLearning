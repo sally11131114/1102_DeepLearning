{
 "cells": [
  {
   "cell_type": "markdown",
   "metadata": {
    "id": "NbCoxaRNyFwQ"
   },
   "source": [
    "## TEST\n",
    "\n",
    "1.請將此測試程式碼，全部接續到HW9的最後部分。\n",
    "\n",
    "2.部分函式定義在HW9作業裡，所以需先執行HW9的函式碼。\n",
    "\n",
    "3.若要儲存參數，可在\"def train_part345\"裡，函式定義最後面加上:\n",
    "\n",
    "  torch.save(model.state_dict(), \"/content/drive/MyDrive/DL2021/midterm/HW8/saveME.pt\")\n",
    "    \n",
    "  print('Save model weight')\n",
    "\n",
    "\n",
    "  可參考:https://zhuanlan.zhihu.com/p/82038049\n"
   ]
  },
  {
   "cell_type": "code",
   "execution_count": null,
   "metadata": {
    "id": "kI36bsQmyEUP"
   },
   "outputs": [],
   "source": [
    "import h5py  \n",
    "import numpy as np\n",
    "import torch\n",
    "from torch.utils.data import Dataset\n",
    "#############################################################################\n",
    "# 模型導入\n",
    "names = ['resnet47']\n",
    "name = names[-1]\n",
    "reset_seed(0)\n",
    "print(name, '\\n')\n",
    "model = get_resnet(name)\n",
    "model = model.to(device='cuda')\n",
    "model.load_state_dict(torch.load('/content/drive/MyDrive/DL2021/midterm2022/DataPrepare/saveNEW.pt')) # 修改成自己的模型權重存檔位置\n",
    "model.eval()\n",
    "#############################################################################\n",
    "# 讀檔\n",
    "f = h5py.File('/content/drive/MyDrive/DL2021/midterm2022/DataPrepare/val.h5','r') # 修改成要測試的數據集\n",
    "Image1 = f['data']\n",
    "Label1 = f['labels']\n",
    "\n",
    "# 定義打包類別\n",
    "class TestDataset(Dataset):\n",
    "  def __init__(self, data_tensor, target_tensor):\n",
    "      self.data_tensor = data_tensor\n",
    "      self.target_tensor = target_tensor\n",
    "  def __getitem__(self, index):\n",
    "      return self.data_tensor[index], self.target_tensor[index]\n",
    "  def __len__(self):\n",
    "      # return self.data_tensor.size(0)\n",
    "      return len(self.data_tensor)\n",
    "\n",
    "# 分割\n",
    "Num_dataset = 10\n",
    "Image1_split = np.split(Image1, Num_dataset)\n",
    "Label1_split = np.split(Label1, Num_dataset)\n",
    "Image1_tensor = torch.Tensor( Image1_split )\n",
    "Label1_tensor = torch.Tensor( Label1_split )\n",
    "data_combine = TestDataset( Image1_tensor, Label1_tensor )\n",
    "\n",
    "# 預測\n",
    "num_correct = 0\n",
    "num_samples = 0\n",
    "for x, y in data_combine:\n",
    "  x = x.to(device='cuda', dtype=to_float)  # move to device, e.g. GPU\n",
    "  y = y.to(device='cuda', dtype=to_long)\n",
    "  scores = model(x)\n",
    "  _, preds = scores.max(1)\n",
    "  num_correct += (preds == y).sum()\n",
    "  num_samples += preds.size(0)\n",
    "acc = float(num_correct) / num_samples\n",
    "print('Got %d / %d correct (%.2f)' % (num_correct, num_samples, 100 * acc))\n",
    "#############################################################################\n",
    "f.close()"
   ]
  }
 ],
 "metadata": {
  "colab": {
   "collapsed_sections": [],
   "name": "TEST.ipynb",
   "provenance": []
  },
  "kernelspec": {
   "display_name": "Python 3 (ipykernel)",
   "language": "python",
   "name": "python3"
  },
  "language_info": {
   "codemirror_mode": {
    "name": "ipython",
    "version": 3
   },
   "file_extension": ".py",
   "mimetype": "text/x-python",
   "name": "python",
   "nbconvert_exporter": "python",
   "pygments_lexer": "ipython3",
   "version": "3.8.10"
  }
 },
 "nbformat": 4,
 "nbformat_minor": 1
}
